{
  "cells": [
    {
      "cell_type": "markdown",
      "metadata": {
        "id": "3DR-eO17geWu"
      },
      "source": [
        "# Convolutional Neural Network"
      ]
    },
    {
      "cell_type": "markdown",
      "metadata": {
        "id": "EMefrVPCg-60"
      },
      "source": [
        "### Importing the libraries"
      ]
    },
    {
      "cell_type": "code",
      "execution_count": 1,
      "metadata": {
        "id": "HpYI-giX15Rc"
      },
      "outputs": [
        {
          "name": "stderr",
          "output_type": "stream",
          "text": [
            "c:\\Users\\User\\anaconda3\\lib\\site-packages\\scipy\\__init__.py:155: UserWarning: A NumPy version >=1.18.5 and <1.25.0 is required for this version of SciPy (detected version 1.26.4\n",
            "  warnings.warn(f\"A NumPy version >={np_minversion} and <{np_maxversion}\"\n"
          ]
        },
        {
          "name": "stdout",
          "output_type": "stream",
          "text": [
            "WARNING:tensorflow:From c:\\Users\\User\\anaconda3\\lib\\site-packages\\keras\\src\\losses.py:2976: The name tf.losses.sparse_softmax_cross_entropy is deprecated. Please use tf.compat.v1.losses.sparse_softmax_cross_entropy instead.\n",
            "\n"
          ]
        }
      ],
      "source": [
        "import tensorflow as tf\n",
        "from keras.preprocessing.image import ImageDataGenerator"
      ]
    },
    {
      "cell_type": "markdown",
      "metadata": {
        "id": "oxQxCBWyoGPE"
      },
      "source": [
        "## Part 1 - Data Preprocessing"
      ]
    },
    {
      "cell_type": "markdown",
      "metadata": {
        "id": "MvE-heJNo3GG"
      },
      "source": [
        "### Preprocessing the Training set"
      ]
    },
    {
      "cell_type": "code",
      "execution_count": 3,
      "metadata": {
        "id": "XZqeMfI14_iC"
      },
      "outputs": [
        {
          "name": "stdout",
          "output_type": "stream",
          "text": [
            "Found 8000 images belonging to 2 classes.\n"
          ]
        }
      ],
      "source": [
        "train_datagen = ImageDataGenerator(rescale = 1./255,\n",
        "                                   shear_range = 0.2,\n",
        "                                   zoom_range = 0.2,\n",
        "                                   horizontal_flip = True)\n",
        "training_set = train_datagen.flow_from_directory('dataset/training_set',\n",
        "                                                 target_size = (64, 64),\n",
        "                                                 batch_size = 32,\n",
        "                                                 class_mode = 'binary')"
      ]
    },
    {
      "cell_type": "markdown",
      "metadata": {
        "id": "mrCMmGw9pHys"
      },
      "source": [
        "### Preprocessing the Test set"
      ]
    },
    {
      "cell_type": "code",
      "execution_count": 4,
      "metadata": {
        "id": "lvaxJwGO5C6B"
      },
      "outputs": [
        {
          "name": "stdout",
          "output_type": "stream",
          "text": [
            "Found 2000 images belonging to 2 classes.\n"
          ]
        }
      ],
      "source": [
        "test_datagen = ImageDataGenerator(rescale = 1./255)\n",
        "test_set = test_datagen.flow_from_directory('dataset/test_set',\n",
        "                                            target_size = (64, 64),\n",
        "                                            batch_size = 32,\n",
        "                                            class_mode = 'binary')"
      ]
    },
    {
      "cell_type": "markdown",
      "metadata": {
        "id": "af8O4l90gk7B"
      },
      "source": [
        "## Part 2 - Building the CNN"
      ]
    },
    {
      "cell_type": "markdown",
      "metadata": {
        "id": "ces1gXY2lmoX"
      },
      "source": [
        "### Initialising the CNN"
      ]
    },
    {
      "cell_type": "code",
      "execution_count": 5,
      "metadata": {
        "id": "TFHw9bFi6-k6"
      },
      "outputs": [
        {
          "name": "stdout",
          "output_type": "stream",
          "text": [
            "WARNING:tensorflow:From c:\\Users\\User\\anaconda3\\lib\\site-packages\\keras\\src\\backend.py:873: The name tf.get_default_graph is deprecated. Please use tf.compat.v1.get_default_graph instead.\n",
            "\n"
          ]
        }
      ],
      "source": [
        "cnn = tf.keras.models.Sequential()"
      ]
    },
    {
      "cell_type": "markdown",
      "metadata": {
        "id": "u5YJj_XMl5LF"
      },
      "source": [
        "### Step 1 - Convolution"
      ]
    },
    {
      "cell_type": "code",
      "execution_count": 6,
      "metadata": {
        "id": "UCH4pmhQ7Uzi"
      },
      "outputs": [],
      "source": [
        "cnn.add(tf.keras.layers.Conv2D(filters=32, kernel_size=3, activation='relu', input_shape=[64, 64, 3]))"
      ]
    },
    {
      "cell_type": "markdown",
      "metadata": {
        "id": "tf87FpvxmNOJ"
      },
      "source": [
        "### Step 2 - Pooling"
      ]
    },
    {
      "cell_type": "code",
      "execution_count": 7,
      "metadata": {
        "id": "vJwTXSg88qri"
      },
      "outputs": [
        {
          "name": "stdout",
          "output_type": "stream",
          "text": [
            "WARNING:tensorflow:From c:\\Users\\User\\anaconda3\\lib\\site-packages\\keras\\src\\layers\\pooling\\max_pooling2d.py:161: The name tf.nn.max_pool is deprecated. Please use tf.nn.max_pool2d instead.\n",
            "\n"
          ]
        }
      ],
      "source": [
        "cnn.add(tf.keras.layers.MaxPool2D(pool_size=2, strides=2))"
      ]
    },
    {
      "cell_type": "markdown",
      "metadata": {
        "id": "xaTOgD8rm4mU"
      },
      "source": [
        "### Adding a second convolutional layer"
      ]
    },
    {
      "cell_type": "code",
      "execution_count": 8,
      "metadata": {
        "id": "GJcv0T-49kmA"
      },
      "outputs": [],
      "source": [
        "cnn.add(tf.keras.layers.Conv2D(filters=32, kernel_size=3, activation='relu'))\n",
        "cnn.add(tf.keras.layers.MaxPool2D(pool_size=2, strides=2))"
      ]
    },
    {
      "cell_type": "markdown",
      "metadata": {
        "id": "tmiEuvTunKfk"
      },
      "source": [
        "### Step 3 - Flattening"
      ]
    },
    {
      "cell_type": "code",
      "execution_count": 9,
      "metadata": {
        "id": "5P8nkFad92e7"
      },
      "outputs": [],
      "source": [
        "cnn.add(tf.keras.layers.Flatten())"
      ]
    },
    {
      "cell_type": "markdown",
      "metadata": {
        "id": "dAoSECOm203v"
      },
      "source": [
        "### Step 4 - Full Connection"
      ]
    },
    {
      "cell_type": "code",
      "execution_count": 10,
      "metadata": {
        "id": "24MxE9Vd-Kkp"
      },
      "outputs": [],
      "source": [
        "cnn.add(tf.keras.layers.Dense(units=128, activation='relu'))"
      ]
    },
    {
      "cell_type": "markdown",
      "metadata": {
        "id": "yTldFvbX28Na"
      },
      "source": [
        "### Step 5 - Output Layer"
      ]
    },
    {
      "cell_type": "code",
      "execution_count": 11,
      "metadata": {
        "id": "hvfzTTUj-UQZ"
      },
      "outputs": [],
      "source": [
        "cnn.add(tf.keras.layers.Dense(units=1, activation='sigmoid'))"
      ]
    },
    {
      "cell_type": "markdown",
      "metadata": {
        "id": "D6XkI90snSDl"
      },
      "source": [
        "## Part 3 - Training the CNN"
      ]
    },
    {
      "cell_type": "markdown",
      "metadata": {
        "id": "vfrFQACEnc6i"
      },
      "source": [
        "### Compiling the CNN"
      ]
    },
    {
      "cell_type": "code",
      "execution_count": 12,
      "metadata": {
        "id": "sbCWe6MZ_Kc5"
      },
      "outputs": [
        {
          "name": "stdout",
          "output_type": "stream",
          "text": [
            "WARNING:tensorflow:From c:\\Users\\User\\anaconda3\\lib\\site-packages\\keras\\src\\optimizers\\__init__.py:309: The name tf.train.Optimizer is deprecated. Please use tf.compat.v1.train.Optimizer instead.\n",
            "\n"
          ]
        }
      ],
      "source": [
        "cnn.compile(optimizer = 'adam', loss = 'binary_crossentropy', metrics = ['accuracy'])"
      ]
    },
    {
      "cell_type": "markdown",
      "metadata": {
        "id": "ehS-v3MIpX2h"
      },
      "source": [
        "### Training the CNN on the Training set and evaluating it on the Test set"
      ]
    },
    {
      "cell_type": "code",
      "execution_count": 13,
      "metadata": {
        "id": "EFJKH9id_PNQ"
      },
      "outputs": [
        {
          "name": "stdout",
          "output_type": "stream",
          "text": [
            "Epoch 1/25\n",
            "WARNING:tensorflow:From c:\\Users\\User\\anaconda3\\lib\\site-packages\\keras\\src\\utils\\tf_utils.py:492: The name tf.ragged.RaggedTensorValue is deprecated. Please use tf.compat.v1.ragged.RaggedTensorValue instead.\n",
            "\n",
            "WARNING:tensorflow:From c:\\Users\\User\\anaconda3\\lib\\site-packages\\keras\\src\\engine\\base_layer_utils.py:384: The name tf.executing_eagerly_outside_functions is deprecated. Please use tf.compat.v1.executing_eagerly_outside_functions instead.\n",
            "\n",
            "250/250 [==============================] - 30s 117ms/step - loss: 0.6628 - accuracy: 0.5936 - val_loss: 0.5986 - val_accuracy: 0.6795\n",
            "Epoch 2/25\n",
            "250/250 [==============================] - 25s 100ms/step - loss: 0.5787 - accuracy: 0.6999 - val_loss: 0.5386 - val_accuracy: 0.7315\n",
            "Epoch 3/25\n",
            "250/250 [==============================] - 25s 101ms/step - loss: 0.5320 - accuracy: 0.7272 - val_loss: 0.5360 - val_accuracy: 0.7345\n",
            "Epoch 4/25\n",
            "250/250 [==============================] - 25s 100ms/step - loss: 0.5100 - accuracy: 0.7476 - val_loss: 0.5118 - val_accuracy: 0.7550\n",
            "Epoch 5/25\n",
            "250/250 [==============================] - 24s 97ms/step - loss: 0.4913 - accuracy: 0.7610 - val_loss: 0.4854 - val_accuracy: 0.7680\n",
            "Epoch 6/25\n",
            "250/250 [==============================] - 26s 106ms/step - loss: 0.4741 - accuracy: 0.7704 - val_loss: 0.4854 - val_accuracy: 0.7665\n",
            "Epoch 7/25\n",
            "250/250 [==============================] - 27s 107ms/step - loss: 0.4589 - accuracy: 0.7835 - val_loss: 0.4834 - val_accuracy: 0.7790\n",
            "Epoch 8/25\n",
            "250/250 [==============================] - 25s 102ms/step - loss: 0.4455 - accuracy: 0.7874 - val_loss: 0.4774 - val_accuracy: 0.7705\n",
            "Epoch 9/25\n",
            "250/250 [==============================] - 24s 98ms/step - loss: 0.4360 - accuracy: 0.7914 - val_loss: 0.4680 - val_accuracy: 0.7790\n",
            "Epoch 10/25\n",
            "250/250 [==============================] - 25s 99ms/step - loss: 0.4196 - accuracy: 0.8037 - val_loss: 0.5302 - val_accuracy: 0.7440\n",
            "Epoch 11/25\n",
            "250/250 [==============================] - 25s 99ms/step - loss: 0.4036 - accuracy: 0.8130 - val_loss: 0.4702 - val_accuracy: 0.7885\n",
            "Epoch 12/25\n",
            "250/250 [==============================] - 24s 98ms/step - loss: 0.3952 - accuracy: 0.8159 - val_loss: 0.4638 - val_accuracy: 0.7905\n",
            "Epoch 13/25\n",
            "250/250 [==============================] - 25s 99ms/step - loss: 0.3833 - accuracy: 0.8266 - val_loss: 0.4682 - val_accuracy: 0.7945\n",
            "Epoch 14/25\n",
            "250/250 [==============================] - 24s 98ms/step - loss: 0.3814 - accuracy: 0.8241 - val_loss: 0.4843 - val_accuracy: 0.7835\n",
            "Epoch 15/25\n",
            "250/250 [==============================] - 25s 99ms/step - loss: 0.3574 - accuracy: 0.8409 - val_loss: 0.4972 - val_accuracy: 0.7840\n",
            "Epoch 16/25\n",
            "250/250 [==============================] - 25s 99ms/step - loss: 0.3516 - accuracy: 0.8431 - val_loss: 0.4724 - val_accuracy: 0.7990\n",
            "Epoch 17/25\n",
            "250/250 [==============================] - 25s 98ms/step - loss: 0.3348 - accuracy: 0.8494 - val_loss: 0.4947 - val_accuracy: 0.8005\n",
            "Epoch 18/25\n",
            "250/250 [==============================] - 26s 104ms/step - loss: 0.3313 - accuracy: 0.8536 - val_loss: 0.4610 - val_accuracy: 0.8120\n",
            "Epoch 19/25\n",
            "250/250 [==============================] - 25s 100ms/step - loss: 0.3130 - accuracy: 0.8587 - val_loss: 0.4696 - val_accuracy: 0.8085\n",
            "Epoch 20/25\n",
            "250/250 [==============================] - 25s 100ms/step - loss: 0.3048 - accuracy: 0.8702 - val_loss: 0.5010 - val_accuracy: 0.8010\n",
            "Epoch 21/25\n",
            "250/250 [==============================] - 25s 98ms/step - loss: 0.2969 - accuracy: 0.8730 - val_loss: 0.5472 - val_accuracy: 0.7905\n",
            "Epoch 22/25\n",
            "250/250 [==============================] - 25s 99ms/step - loss: 0.2820 - accuracy: 0.8776 - val_loss: 0.5205 - val_accuracy: 0.7970\n",
            "Epoch 23/25\n",
            "250/250 [==============================] - 25s 99ms/step - loss: 0.2705 - accuracy: 0.8886 - val_loss: 0.4971 - val_accuracy: 0.8080\n",
            "Epoch 24/25\n",
            "250/250 [==============================] - 25s 98ms/step - loss: 0.2633 - accuracy: 0.8901 - val_loss: 0.4882 - val_accuracy: 0.8110\n",
            "Epoch 25/25\n",
            "250/250 [==============================] - 25s 101ms/step - loss: 0.2458 - accuracy: 0.8964 - val_loss: 0.5197 - val_accuracy: 0.8015\n"
          ]
        },
        {
          "data": {
            "text/plain": [
              "<keras.src.callbacks.History at 0x1fb51ef6e20>"
            ]
          },
          "execution_count": 13,
          "metadata": {},
          "output_type": "execute_result"
        }
      ],
      "source": [
        "cnn.fit(x = training_set, validation_data = test_set, epochs = 25)"
      ]
    },
    {
      "cell_type": "markdown",
      "metadata": {
        "id": "U3PZasO0006Z"
      },
      "source": [
        "## Part 4 - Making a single prediction"
      ]
    },
    {
      "cell_type": "code",
      "execution_count": 14,
      "metadata": {
        "id": "qyq9AOy0_cbg"
      },
      "outputs": [
        {
          "name": "stdout",
          "output_type": "stream",
          "text": [
            "1/1 [==============================] - 0s 84ms/step\n"
          ]
        }
      ],
      "source": [
        "import numpy as np\n",
        "from keras.preprocessing import image\n",
        "test_image = image.load_img('dataset/single_prediction/cat_or_dog_1.jpg', target_size = (64, 64))\n",
        "test_image = image.img_to_array(test_image)\n",
        "test_image = np.expand_dims(test_image, axis = 0)\n",
        "result = cnn.predict(test_image)\n",
        "training_set.class_indices\n",
        "if result[0][0] == 1:\n",
        "  prediction = 'dog'\n",
        "else:\n",
        "  prediction = 'cat'"
      ]
    },
    {
      "cell_type": "code",
      "execution_count": 15,
      "metadata": {
        "id": "LFPD2hfn_dFI"
      },
      "outputs": [
        {
          "name": "stdout",
          "output_type": "stream",
          "text": [
            "dog\n"
          ]
        }
      ],
      "source": [
        "print(prediction)"
      ]
    }
  ],
  "metadata": {
    "colab": {
      "provenance": [],
      "toc_visible": true
    },
    "kernelspec": {
      "display_name": "Python 3",
      "name": "python3"
    },
    "language_info": {
      "codemirror_mode": {
        "name": "ipython",
        "version": 3
      },
      "file_extension": ".py",
      "mimetype": "text/x-python",
      "name": "python",
      "nbconvert_exporter": "python",
      "pygments_lexer": "ipython3",
      "version": "3.9.13"
    }
  },
  "nbformat": 4,
  "nbformat_minor": 0
}
